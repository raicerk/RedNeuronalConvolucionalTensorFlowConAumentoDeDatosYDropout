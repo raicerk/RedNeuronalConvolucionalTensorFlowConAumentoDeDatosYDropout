{
 "cells": [
  {
   "cell_type": "code",
   "execution_count": 1,
   "id": "71317cff",
   "metadata": {},
   "outputs": [],
   "source": [
    "import tensorflow as tf\n",
    "import numpy as np\n",
    "import matplotlib.pyplot as plt\n",
    "\n",
    "from tensorflow.keras.datasets import mnist\n",
    "from tensorflow.keras.utils import to_categorical\n",
    "from tensorflow.keras.preprocessing.image import ImageDataGenerator"
   ]
  },
  {
   "cell_type": "code",
   "execution_count": 2,
   "id": "0d6034d2",
   "metadata": {},
   "outputs": [],
   "source": [
    "(X_entrenamiento, Y_entrenamiento), (X_pruebas, Y_pruebas) = mnist.load_data()\n",
    "\n",
    "class_names = ['Cero', 'Uno', 'Dos', 'Tres', 'Cuatro', 'Cinco', 'Seis', 'Siete', 'Ocho', 'Nueve']\n",
    "\n",
    "#Colocar los datos en la forma correcta que ya hemos visto (1, 28, 28, 1)\n",
    "X_entrenamiento = X_entrenamiento.reshape(X_entrenamiento.shape[0], 28, 28, 1)\n",
    "X_pruebas = X_pruebas.reshape(X_pruebas.shape[0], 28, 28, 1)\n",
    "\n",
    "#Hacer 'one-hot encoding' de los resultados (e.g. en lugar de tener como resultado una sola neurona, tendre 10 donde solo el resultado correcto sera 1 y el resto 0)\n",
    "Y_entrenamiento = to_categorical(Y_entrenamiento)\n",
    "Y_pruebas = to_categorical(Y_pruebas)\n",
    "\n",
    "#Convertir a flotante y normalizar para que aprenda mejor la red\n",
    "X_entrenamiento = X_entrenamiento.astype('float32') / 255\n",
    "X_pruebas = X_pruebas.astype('float32') / 255"
   ]
  },
  {
   "cell_type": "code",
   "execution_count": 3,
   "id": "8b974009",
   "metadata": {},
   "outputs": [],
   "source": [
    "#Aumento de datos\n",
    "#Variables para controlar las transformaciones que se haran en el aumento de datos\n",
    "#utilizando ImageDataGenerator de keras\n",
    "\n",
    "rango_rotacion = 30\n",
    "mov_ancho = 0.25\n",
    "mov_alto = 0.25\n",
    "#rango_inclinacion=15 #No uso este de momento pero si quieres puedes probar usandolo!\n",
    "rango_acercamiento=[0.5,1.5]\n",
    "\n",
    "datagen = ImageDataGenerator(\n",
    "    rotation_range = rango_rotacion,\n",
    "    width_shift_range = mov_ancho,\n",
    "    height_shift_range = mov_alto,\n",
    "    zoom_range=rango_acercamiento,\n",
    "    #shear_range=rango_inclinacion #No uso este de momento pero si quieres puedes probar usandolo!\n",
    ")\n",
    "\n",
    "datagen.fit(X_entrenamiento)\n"
   ]
  },
  {
   "cell_type": "code",
   "execution_count": 4,
   "id": "884435ea",
   "metadata": {},
   "outputs": [
    {
     "name": "stderr",
     "output_type": "stream",
     "text": [
      "2021-10-15 15:44:28.062004: I tensorflow/core/platform/cpu_feature_guard.cc:142] This TensorFlow binary is optimized with oneAPI Deep Neural Network Library (oneDNN) to use the following CPU instructions in performance-critical operations:  AVX2 FMA\n",
      "To enable them in other operations, rebuild TensorFlow with the appropriate compiler flags.\n"
     ]
    }
   ],
   "source": [
    "#Modelo!\n",
    "modelo = tf.keras.models.Sequential([\n",
    "    tf.keras.layers.Conv2D(32, (3,3), activation='relu', input_shape=(28, 28, 1)),\n",
    "    tf.keras.layers.MaxPooling2D(2, 2),\n",
    "\n",
    "    tf.keras.layers.Conv2D(64, (3,3), activation='relu'),\n",
    "    tf.keras.layers.MaxPooling2D(2,2),\n",
    "\n",
    "    tf.keras.layers.Dropout(0.5),\n",
    "    tf.keras.layers.Flatten(),\n",
    "    tf.keras.layers.Dense(100, activation='relu'),\n",
    "    tf.keras.layers.Dense(10, activation=\"softmax\")\n",
    "])"
   ]
  },
  {
   "cell_type": "code",
   "execution_count": 5,
   "id": "226b12c7",
   "metadata": {},
   "outputs": [],
   "source": [
    "#Compilación\n",
    "modelo.compile(optimizer='adam', loss='categorical_crossentropy', metrics=['accuracy'])"
   ]
  },
  {
   "cell_type": "code",
   "execution_count": 7,
   "id": "94ec15ba",
   "metadata": {},
   "outputs": [],
   "source": [
    "#Los datos para entrenar saldran del datagen, de manera que sean generados con las transformaciones que indicamos\n",
    "data_gen_entrenamiento = datagen.flow(X_entrenamiento, Y_entrenamiento, batch_size=32)"
   ]
  },
  {
   "cell_type": "code",
   "execution_count": 8,
   "id": "b24c8aa7",
   "metadata": {},
   "outputs": [
    {
     "name": "stdout",
     "output_type": "stream",
     "text": [
      "Entrenando modelo...\n",
      "Epoch 1/60\n"
     ]
    },
    {
     "name": "stderr",
     "output_type": "stream",
     "text": [
      "2021-10-15 15:45:19.486756: I tensorflow/compiler/mlir/mlir_graph_optimization_pass.cc:185] None of the MLIR Optimization Passes are enabled (registered 2)\n"
     ]
    },
    {
     "name": "stdout",
     "output_type": "stream",
     "text": [
      "1875/1875 [==============================] - 24s 13ms/step - loss: 1.2186 - accuracy: 0.5919 - val_loss: 0.2015 - val_accuracy: 0.9444\n",
      "Epoch 2/60\n",
      "1875/1875 [==============================] - 26s 14ms/step - loss: 0.7061 - accuracy: 0.7721 - val_loss: 0.1226 - val_accuracy: 0.9643\n",
      "Epoch 3/60\n",
      "1875/1875 [==============================] - 32s 17ms/step - loss: 0.5803 - accuracy: 0.8132 - val_loss: 0.1126 - val_accuracy: 0.9662\n",
      "Epoch 4/60\n",
      "1875/1875 [==============================] - 36s 19ms/step - loss: 0.5190 - accuracy: 0.8327 - val_loss: 0.0863 - val_accuracy: 0.9732\n",
      "Epoch 5/60\n",
      "1875/1875 [==============================] - 37s 19ms/step - loss: 0.4757 - accuracy: 0.8456 - val_loss: 0.0819 - val_accuracy: 0.9756\n",
      "Epoch 6/60\n",
      "1875/1875 [==============================] - 35s 19ms/step - loss: 0.4570 - accuracy: 0.8524 - val_loss: 0.0915 - val_accuracy: 0.9680\n",
      "Epoch 7/60\n",
      "1875/1875 [==============================] - 34s 18ms/step - loss: 0.4350 - accuracy: 0.8590 - val_loss: 0.0660 - val_accuracy: 0.9783\n",
      "Epoch 8/60\n",
      "1875/1875 [==============================] - 36s 19ms/step - loss: 0.4220 - accuracy: 0.8630 - val_loss: 0.0581 - val_accuracy: 0.9817\n",
      "Epoch 9/60\n",
      "1875/1875 [==============================] - 36s 19ms/step - loss: 0.4013 - accuracy: 0.8702 - val_loss: 0.0639 - val_accuracy: 0.9809\n",
      "Epoch 10/60\n",
      "1875/1875 [==============================] - 36s 19ms/step - loss: 0.3996 - accuracy: 0.8711 - val_loss: 0.0546 - val_accuracy: 0.9825\n",
      "Epoch 11/60\n",
      "1875/1875 [==============================] - 36s 19ms/step - loss: 0.3854 - accuracy: 0.8762 - val_loss: 0.0701 - val_accuracy: 0.9788\n",
      "Epoch 12/60\n",
      "1875/1875 [==============================] - 36s 19ms/step - loss: 0.3774 - accuracy: 0.8785 - val_loss: 0.0685 - val_accuracy: 0.9779\n",
      "Epoch 13/60\n",
      "1875/1875 [==============================] - 35s 19ms/step - loss: 0.3671 - accuracy: 0.8823 - val_loss: 0.0604 - val_accuracy: 0.9805\n",
      "Epoch 14/60\n",
      "1875/1875 [==============================] - 36s 19ms/step - loss: 0.3665 - accuracy: 0.8828 - val_loss: 0.0638 - val_accuracy: 0.9795\n",
      "Epoch 15/60\n",
      "1875/1875 [==============================] - 41s 22ms/step - loss: 0.3642 - accuracy: 0.8823 - val_loss: 0.0452 - val_accuracy: 0.9854\n",
      "Epoch 16/60\n",
      "1875/1875 [==============================] - 41s 22ms/step - loss: 0.3522 - accuracy: 0.8848 - val_loss: 0.0556 - val_accuracy: 0.9815\n",
      "Epoch 17/60\n",
      "1875/1875 [==============================] - 40s 21ms/step - loss: 0.3468 - accuracy: 0.8867 - val_loss: 0.0440 - val_accuracy: 0.9849\n",
      "Epoch 18/60\n",
      "1875/1875 [==============================] - 41s 22ms/step - loss: 0.3439 - accuracy: 0.8874 - val_loss: 0.0449 - val_accuracy: 0.9853\n",
      "Epoch 19/60\n",
      "1875/1875 [==============================] - 45s 24ms/step - loss: 0.3399 - accuracy: 0.8909 - val_loss: 0.0573 - val_accuracy: 0.9830\n",
      "Epoch 20/60\n",
      "1875/1875 [==============================] - 47s 25ms/step - loss: 0.3356 - accuracy: 0.8922 - val_loss: 0.0441 - val_accuracy: 0.9847\n",
      "Epoch 21/60\n",
      "1875/1875 [==============================] - 46s 24ms/step - loss: 0.3339 - accuracy: 0.8917 - val_loss: 0.0498 - val_accuracy: 0.9842\n",
      "Epoch 22/60\n",
      "1875/1875 [==============================] - 53s 28ms/step - loss: 0.3284 - accuracy: 0.8948 - val_loss: 0.0536 - val_accuracy: 0.9823\n",
      "Epoch 23/60\n",
      "1875/1875 [==============================] - 45s 24ms/step - loss: 0.3285 - accuracy: 0.8936 - val_loss: 0.0539 - val_accuracy: 0.9811\n",
      "Epoch 24/60\n",
      "1875/1875 [==============================] - 39s 21ms/step - loss: 0.3292 - accuracy: 0.8936 - val_loss: 0.0524 - val_accuracy: 0.9841\n",
      "Epoch 25/60\n",
      "1875/1875 [==============================] - 38s 20ms/step - loss: 0.3261 - accuracy: 0.8945 - val_loss: 0.0582 - val_accuracy: 0.9810\n",
      "Epoch 26/60\n",
      "1875/1875 [==============================] - 41s 22ms/step - loss: 0.3189 - accuracy: 0.8971 - val_loss: 0.0376 - val_accuracy: 0.9868\n",
      "Epoch 27/60\n",
      "1875/1875 [==============================] - 43s 23ms/step - loss: 0.3228 - accuracy: 0.8972 - val_loss: 0.0504 - val_accuracy: 0.9832\n",
      "Epoch 28/60\n",
      "1875/1875 [==============================] - 44s 24ms/step - loss: 0.3218 - accuracy: 0.8952 - val_loss: 0.0494 - val_accuracy: 0.9845\n",
      "Epoch 29/60\n",
      "1875/1875 [==============================] - 47s 25ms/step - loss: 0.3134 - accuracy: 0.8991 - val_loss: 0.0551 - val_accuracy: 0.9813\n",
      "Epoch 30/60\n",
      "1875/1875 [==============================] - 46s 25ms/step - loss: 0.3103 - accuracy: 0.8992 - val_loss: 0.0566 - val_accuracy: 0.9811\n",
      "Epoch 31/60\n",
      "1875/1875 [==============================] - 46s 24ms/step - loss: 0.3096 - accuracy: 0.8990 - val_loss: 0.0556 - val_accuracy: 0.9821\n",
      "Epoch 32/60\n",
      "1875/1875 [==============================] - 45s 24ms/step - loss: 0.3091 - accuracy: 0.9016 - val_loss: 0.0537 - val_accuracy: 0.9833\n",
      "Epoch 33/60\n",
      "1875/1875 [==============================] - 43s 23ms/step - loss: 0.3077 - accuracy: 0.9011 - val_loss: 0.0491 - val_accuracy: 0.9859\n",
      "Epoch 34/60\n",
      "1875/1875 [==============================] - 45s 24ms/step - loss: 0.3024 - accuracy: 0.9035 - val_loss: 0.0474 - val_accuracy: 0.9849\n",
      "Epoch 35/60\n",
      "1875/1875 [==============================] - 52s 28ms/step - loss: 0.3056 - accuracy: 0.9021 - val_loss: 0.0432 - val_accuracy: 0.9856\n",
      "Epoch 36/60\n",
      "1875/1875 [==============================] - 55s 29ms/step - loss: 0.2993 - accuracy: 0.9030 - val_loss: 0.0436 - val_accuracy: 0.9859\n",
      "Epoch 37/60\n",
      "1875/1875 [==============================] - 50s 27ms/step - loss: 0.2992 - accuracy: 0.9036 - val_loss: 0.0481 - val_accuracy: 0.9849\n",
      "Epoch 38/60\n",
      "1875/1875 [==============================] - 48s 26ms/step - loss: 0.3009 - accuracy: 0.9038 - val_loss: 0.0566 - val_accuracy: 0.9823\n",
      "Epoch 39/60\n",
      "1875/1875 [==============================] - 45s 24ms/step - loss: 0.2962 - accuracy: 0.9048 - val_loss: 0.0486 - val_accuracy: 0.9850\n",
      "Epoch 40/60\n",
      "1875/1875 [==============================] - 47s 25ms/step - loss: 0.2942 - accuracy: 0.9050 - val_loss: 0.0473 - val_accuracy: 0.9849\n",
      "Epoch 41/60\n",
      "1875/1875 [==============================] - 50s 27ms/step - loss: 0.2938 - accuracy: 0.9045 - val_loss: 0.0516 - val_accuracy: 0.9854\n",
      "Epoch 42/60\n",
      "1875/1875 [==============================] - 50s 26ms/step - loss: 0.2920 - accuracy: 0.9054 - val_loss: 0.0581 - val_accuracy: 0.9827\n",
      "Epoch 43/60\n",
      "1875/1875 [==============================] - 45s 24ms/step - loss: 0.2946 - accuracy: 0.9048 - val_loss: 0.0588 - val_accuracy: 0.9806\n",
      "Epoch 44/60\n",
      "1875/1875 [==============================] - 42s 23ms/step - loss: 0.2941 - accuracy: 0.9056 - val_loss: 0.0650 - val_accuracy: 0.9814\n",
      "Epoch 45/60\n",
      "1875/1875 [==============================] - 44s 23ms/step - loss: 0.2904 - accuracy: 0.9064 - val_loss: 0.0604 - val_accuracy: 0.9810\n",
      "Epoch 46/60\n",
      "1875/1875 [==============================] - 45s 24ms/step - loss: 0.2874 - accuracy: 0.9070 - val_loss: 0.0511 - val_accuracy: 0.9835\n",
      "Epoch 47/60\n",
      "1875/1875 [==============================] - 49s 26ms/step - loss: 0.2906 - accuracy: 0.9074 - val_loss: 0.0508 - val_accuracy: 0.9852\n",
      "Epoch 48/60\n",
      "1875/1875 [==============================] - 46s 24ms/step - loss: 0.2904 - accuracy: 0.9056 - val_loss: 0.0541 - val_accuracy: 0.9831\n",
      "Epoch 49/60\n",
      "1875/1875 [==============================] - 48s 25ms/step - loss: 0.2848 - accuracy: 0.9087 - val_loss: 0.0497 - val_accuracy: 0.9837\n",
      "Epoch 50/60\n",
      "1875/1875 [==============================] - 45s 24ms/step - loss: 0.2889 - accuracy: 0.9062 - val_loss: 0.0528 - val_accuracy: 0.9837\n",
      "Epoch 51/60\n",
      "1875/1875 [==============================] - 41s 22ms/step - loss: 0.2821 - accuracy: 0.9097 - val_loss: 0.0669 - val_accuracy: 0.9801\n",
      "Epoch 52/60\n",
      "1875/1875 [==============================] - 42s 22ms/step - loss: 0.2817 - accuracy: 0.9082 - val_loss: 0.0532 - val_accuracy: 0.9832\n",
      "Epoch 53/60\n",
      "1875/1875 [==============================] - 47s 25ms/step - loss: 0.2764 - accuracy: 0.9116 - val_loss: 0.0463 - val_accuracy: 0.9865\n",
      "Epoch 54/60\n",
      "1875/1875 [==============================] - 49s 26ms/step - loss: 0.2805 - accuracy: 0.9092 - val_loss: 0.0516 - val_accuracy: 0.9836\n",
      "Epoch 55/60\n",
      "1875/1875 [==============================] - 47s 25ms/step - loss: 0.2851 - accuracy: 0.9077 - val_loss: 0.0475 - val_accuracy: 0.9847\n",
      "Epoch 56/60\n"
     ]
    },
    {
     "name": "stdout",
     "output_type": "stream",
     "text": [
      "1875/1875 [==============================] - 43s 23ms/step - loss: 0.2871 - accuracy: 0.9075 - val_loss: 0.0593 - val_accuracy: 0.9810\n",
      "Epoch 57/60\n",
      "1875/1875 [==============================] - 38s 20ms/step - loss: 0.2785 - accuracy: 0.9117 - val_loss: 0.0477 - val_accuracy: 0.9843\n",
      "Epoch 58/60\n",
      "1875/1875 [==============================] - 37s 20ms/step - loss: 0.2750 - accuracy: 0.9104 - val_loss: 0.0488 - val_accuracy: 0.9845\n",
      "Epoch 59/60\n",
      "1875/1875 [==============================] - 37s 19ms/step - loss: 0.2765 - accuracy: 0.9111 - val_loss: 0.0548 - val_accuracy: 0.9830\n",
      "Epoch 60/60\n",
      "1875/1875 [==============================] - 38s 20ms/step - loss: 0.2783 - accuracy: 0.9094 - val_loss: 0.0529 - val_accuracy: 0.9841\n",
      "Modelo entrenado!\n"
     ]
    }
   ],
   "source": [
    "TAMANO_LOTE = 32\n",
    "\n",
    "#Entrenar la red.\n",
    "print(\"Entrenando modelo...\");\n",
    "epocas=60\n",
    "history = modelo.fit(\n",
    "    data_gen_entrenamiento,\n",
    "    epochs=epocas,\n",
    "    batch_size=TAMANO_LOTE,\n",
    "    validation_data=(X_pruebas, Y_pruebas),\n",
    "    steps_per_epoch=int(np.ceil(60000 / float(TAMANO_LOTE))),\n",
    "    validation_steps=int(np.ceil(10000 / float(TAMANO_LOTE)))\n",
    ")\n",
    "\n",
    "print(\"Modelo entrenado!\");"
   ]
  },
  {
   "cell_type": "code",
   "execution_count": 31,
   "id": "e949ef6f",
   "metadata": {},
   "outputs": [],
   "source": [
    "imagen = X_pruebas[456]\n",
    "number = imagen\n",
    "number = np.array([number])\n",
    "prediccion = modelo.predict(number)"
   ]
  },
  {
   "cell_type": "code",
   "execution_count": 32,
   "id": "160e0cac",
   "metadata": {},
   "outputs": [
    {
     "name": "stdout",
     "output_type": "stream",
     "text": [
      "Predicción: Dos\n"
     ]
    },
    {
     "data": {
      "image/png": "[encoded data removed]",
      "text/plain": [
       "<Figure size 288x288 with 1 Axes>"
      ]
     },
     "metadata": {},
     "output_type": "display_data"
    }
   ],
   "source": [
    "\n",
    "#Visor de la imagen a evaluar\n",
    "plt.figure(figsize=(4, 4))\n",
    "plt.grid(False)\n",
    "plt.xticks([])\n",
    "plt.yticks([])\n",
    "plt.imshow(imagen, cmap=plt.cm.binary)\n",
    "print(\"Predicción: \" + class_names[np.argmax(prediccion[0])])\n",
    "plt.show()"
   ]
  },
  {
   "cell_type": "code",
   "execution_count": 22,
   "id": "2d7277b0",
   "metadata": {},
   "outputs": [
    {
     "data": {
      "image/png": "[encoded data removed]",
      "text/plain": [
       "<Figure size 432x288 with 9 Axes>"
      ]
     },
     "metadata": {
      "needs_background": "light"
     },
     "output_type": "display_data"
    }
   ],
   "source": [
    "for i in range(9):\n",
    "    number = X_pruebas[i]\n",
    "    number = np.array([number])\n",
    "    plt.subplot(330 + 1 + i)\n",
    "    plt.imshow(X_pruebas[i], cmap=plt.get_cmap('gray'))\n",
    "    prediccion = modelo.predict(number)\n",
    "    plt.ylabel(class_names[np.argmax(prediccion[0])])\n",
    "plt.show()"
   ]
  },
  {
   "cell_type": "code",
   "execution_count": null,
   "id": "66cf36e5",
   "metadata": {},
   "outputs": [],
   "source": []
  }
 ],
 "metadata": {
  "kernelspec": {
   "display_name": "Python 3 (ipykernel)",
   "language": "python",
   "name": "python3"
  },
  "language_info": {
   "codemirror_mode": {
    "name": "ipython",
    "version": 3
   },
   "file_extension": ".py",
   "mimetype": "text/x-python",
   "name": "python",
   "nbconvert_exporter": "python",
   "pygments_lexer": "ipython3",
   "version": "3.9.7"
  }
 },
 "nbformat": 4,
 "nbformat_minor": 5
}
